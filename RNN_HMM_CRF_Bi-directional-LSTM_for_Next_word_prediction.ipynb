{
  "nbformat": 4,
  "nbformat_minor": 0,
  "metadata": {
    "colab": {
      "provenance": []
    },
    "kernelspec": {
      "name": "python3",
      "display_name": "Python 3"
    },
    "language_info": {
      "name": "python"
    }
  },
  "cells": [
    {
      "cell_type": "code",
      "execution_count": null,
      "metadata": {
        "colab": {
          "base_uri": "https://localhost:8080/"
        },
        "id": "brRNDmwZhQVT",
        "outputId": "6d15b37f-a4fb-4af2-f53a-12f23de41b7e"
      },
      "outputs": [
        {
          "output_type": "stream",
          "name": "stdout",
          "text": [
            "Epoch 1/10\n",
            "1/1 [==============================] - 8s 8s/step - loss: 9.2099 - accuracy: 0.0000e+00\n",
            "Epoch 2/10\n",
            "1/1 [==============================] - 0s 86ms/step - loss: 9.2068 - accuracy: 0.5000\n",
            "Epoch 3/10\n",
            "1/1 [==============================] - 0s 63ms/step - loss: 9.2036 - accuracy: 0.6667\n",
            "Epoch 4/10\n",
            "1/1 [==============================] - 0s 68ms/step - loss: 9.2004 - accuracy: 0.8333\n",
            "Epoch 5/10\n",
            "1/1 [==============================] - 0s 78ms/step - loss: 9.1970 - accuracy: 0.7500\n",
            "Epoch 6/10\n",
            "1/1 [==============================] - 0s 66ms/step - loss: 9.1935 - accuracy: 0.6667\n",
            "Epoch 7/10\n",
            "1/1 [==============================] - 0s 74ms/step - loss: 9.1897 - accuracy: 0.6667\n",
            "Epoch 8/10\n",
            "1/1 [==============================] - 0s 64ms/step - loss: 9.1856 - accuracy: 0.5833\n",
            "Epoch 9/10\n",
            "1/1 [==============================] - 0s 70ms/step - loss: 9.1813 - accuracy: 0.5833\n",
            "Epoch 10/10\n",
            "1/1 [==============================] - 0s 50ms/step - loss: 9.1765 - accuracy: 0.5833\n"
          ]
        }
      ],
      "source": [
        "import numpy as np\n",
        "import tensorflow as tf\n",
        "from tensorflow.keras.layers import Bidirectional, LSTM, Dense, Embedding\n",
        "from tensorflow.keras.preprocessing.text import Tokenizer\n",
        "from tensorflow.keras.preprocessing.sequence import pad_sequences\n",
        "\n",
        "# Sample document\n",
        "sample_document = [\n",
        "    \"The school is outer\",\n",
        "    \"The scooty is near\",\n",
        "    \"The tree is very tall\"\n",
        "]\n",
        "\n",
        "# Hyperparameters\n",
        "vocab_size = 10000\n",
        "max_length = 5\n",
        "embedding_dim = 50\n",
        "hidden_units = 64\n",
        "\n",
        "# Tokenize the text\n",
        "tokenizer = Tokenizer(num_words=vocab_size)\n",
        "tokenizer.fit_on_texts(sample_document)\n",
        "sequences = tokenizer.texts_to_sequences(sample_document)\n",
        "\n",
        "# Pad sequences to the same length\n",
        "padded_sequences = pad_sequences(sequences, maxlen=max_length, padding='post')\n",
        "\n",
        "# Prepare input and output data\n",
        "X = padded_sequences[:, :-1]  # Input sequences\n",
        "y = padded_sequences[:, 1:]   # Output sequences (shifted by one)\n",
        "\n",
        "# Build the model\n",
        "model = tf.keras.Sequential([\n",
        "    Embedding(vocab_size, embedding_dim, input_length=max_length-1),\n",
        "    Bidirectional(LSTM(hidden_units, return_sequences=True)),\n",
        "    Dense(vocab_size, activation='softmax')\n",
        "])\n",
        "\n",
        "# Compile the model\n",
        "model.compile(loss='sparse_categorical_crossentropy', optimizer='adam', metrics=['accuracy'])\n",
        "\n",
        "# Train the model\n",
        "model.fit(X, y, epochs=10, verbose=1)\n",
        "\n",
        "# Predict the next word\n",
        "def predict_next_word(text):\n",
        "    sequence = tokenizer.texts_to_sequences([text])\n",
        "    padded_sequence = pad_sequences(sequence, maxlen=max_length-1, padding='post')\n",
        "    prediction = model.predict(padded_sequence)\n",
        "    predicted_index = np.argmax(prediction)\n",
        "    predicted_word = tokenizer.index_word.get(predicted_index, \"<OOV>\")\n",
        "    return predicted_word\n",
        "\n"
      ]
    },
    {
      "cell_type": "code",
      "source": [
        "\n",
        "# Test the model\n",
        "test_text = \"tree\"\n",
        "predicted_next_word = predict_next_word(test_text)\n",
        "print(\"Predicted next word:\", predicted_next_word)"
      ],
      "metadata": {
        "colab": {
          "base_uri": "https://localhost:8080/"
        },
        "id": "zUsHnBENiOyY",
        "outputId": "cf127619-7654-4b9f-b1de-03eeb8534551"
      },
      "execution_count": null,
      "outputs": [
        {
          "output_type": "stream",
          "name": "stdout",
          "text": [
            "1/1 [==============================] - 0s 25ms/step\n",
            "Predicted next word: is\n"
          ]
        }
      ]
    },
    {
      "cell_type": "code",
      "source": [],
      "metadata": {
        "id": "QQ80sFcXiKzp"
      },
      "execution_count": null,
      "outputs": []
    }
  ]
}